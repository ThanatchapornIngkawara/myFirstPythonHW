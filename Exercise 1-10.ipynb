{
 "cells": [
  {
   "cell_type": "markdown",
   "metadata": {},
   "source": [
    "# Exercise Question"
   ]
  },
  {
   "cell_type": "markdown",
   "metadata": {},
   "source": [
    "# Thanatchaporn Ingkawara 6310301007"
   ]
  },
  {
   "cell_type": "markdown",
   "metadata": {},
   "source": [
    "### Problem 1"
   ]
  },
  {
   "cell_type": "code",
   "execution_count": 15,
   "metadata": {},
   "outputs": [
    {
     "name": "stdout",
     "output_type": "stream",
     "text": [
      "Element at odd-index positions from list one\n",
      "[6, 12, 18]\n",
      "Element at even-index positions from list two\n",
      "[4, 12, 20, 28]\n",
      "Printing Final third list\n",
      "[6, 12, 18, 4, 12, 20, 28]\n"
     ]
    }
   ],
   "source": [
    "listOne = [3, 6, 9, 12, 15, 18, 21]\n",
    "listTwo = [4, 8, 12, 16, 20, 24, 28]\n",
    "listThree = list()\n",
    "\n",
    "oddElements = listOne[1::2]\n",
    "print(\"Element at odd-index positions from list one\")\n",
    "print(oddElements)\n",
    "\n",
    "EvenElement = listTwo[0::2]\n",
    "print(\"Element at even-index positions from list two\")\n",
    "print(EvenElement)\n",
    "\n",
    "print(\"Printing Final third list\")\n",
    "listThree.extend(oddElements)\n",
    "listThree.extend(EvenElement)\n",
    "print(listThree)"
   ]
  },
  {
   "cell_type": "markdown",
   "metadata": {},
   "source": [
    "### Problem 2"
   ]
  },
  {
   "cell_type": "code",
   "execution_count": 17,
   "metadata": {},
   "outputs": [
    {
     "name": "stdout",
     "output_type": "stream",
     "text": [
      "Original list  [34, 54, 67, 89, 11, 43, 94]\n",
      "List After removing element at index 4  [34, 54, 67, 89, 43, 94]\n",
      "List after Adding element at index 2  [34, 54, 11, 67, 89, 43, 94]\n",
      "List after Adding element at last  [34, 54, 11, 67, 89, 43, 94, 11]\n"
     ]
    }
   ],
   "source": [
    "sampleList = [34, 54, 67, 89, 11, 43, 94]\n",
    "\n",
    "print(\"Original list \", sampleList)\n",
    "element = sampleList.pop(4)\n",
    "print(\"List After removing element at index 4 \", sampleList)\n",
    "\n",
    "sampleList.insert(2, element)\n",
    "print(\"List after Adding element at index 2 \", sampleList)\n",
    "\n",
    "sampleList.append(element)\n",
    "print(\"List after Adding element at last \", sampleList)"
   ]
  },
  {
   "cell_type": "markdown",
   "metadata": {},
   "source": [
    "### Problem 3"
   ]
  },
  {
   "cell_type": "code",
   "execution_count": 18,
   "metadata": {},
   "outputs": [
    {
     "name": "stdout",
     "output_type": "stream",
     "text": [
      "Original list [11, 45, 8, 23, 14, 12, 78, 45, 89]\n",
      "Chunk 1 [11, 45, 8]\n",
      "After reversing it = [8, 45, 11]\n",
      "Chunk 2 [23, 14, 12]\n",
      "After reversing it = [12, 14, 23]\n",
      "Chunk 3 [78, 45, 89]\n",
      "After reversing it = [89, 45, 78]\n"
     ]
    }
   ],
   "source": [
    "sampleList = [11,45,8,23,14,12,78,45,89]\n",
    "print(\"Original list\",sampleList)\n",
    "i,n,tmp = 1,2,[]\n",
    "while sampleList != []:\n",
    "    tmp = sampleList[:3]\n",
    "    sampleList = sampleList[n+1:]\n",
    "    print('Chunk',i,tmp)\n",
    "    tmp.reverse()\n",
    "    print('After reversing it =',tmp)\n",
    "    i += 1"
   ]
  },
  {
   "cell_type": "markdown",
   "metadata": {},
   "source": [
    "### Problem 4"
   ]
  },
  {
   "cell_type": "code",
   "execution_count": 24,
   "metadata": {},
   "outputs": [
    {
     "name": "stdout",
     "output_type": "stream",
     "text": [
      "Original list  [11, 45, 8, 11, 23, 45, 23, 45, 89]\n",
      "Printing count of each item   {11: 2, 45: 3, 8: 1, 23: 2, 89: 1}\n"
     ]
    }
   ],
   "source": [
    "sampleList = [11, 45, 8, 11, 23, 45, 23, 45, 89]\n",
    "print(\"Original list \", sampleList)\n",
    "\n",
    "countDict = dict()\n",
    "for item in sampleList:\n",
    "    if(item in countDict):\n",
    "        countDict[item] += 1\n",
    "    else:\n",
    "        countDict[item] = 1\n",
    "print(\"Printing count of each item  \",countDict)"
   ]
  },
  {
   "cell_type": "markdown",
   "metadata": {},
   "source": [
    "### Problem 5"
   ]
  },
  {
   "cell_type": "code",
   "execution_count": 25,
   "metadata": {},
   "outputs": [
    {
     "name": "stdout",
     "output_type": "stream",
     "text": [
      "First List  [2, 3, 4, 5, 6, 7, 8]\n",
      "Second List  [4, 9, 16, 25, 36, 49, 64]\n",
      "{(6, 36), (8, 64), (4, 16), (5, 25), (3, 9), (7, 49), (2, 4)}\n"
     ]
    }
   ],
   "source": [
    "firstList = [2, 3, 4, 5, 6, 7, 8]\n",
    "print(\"First List \", firstList)\n",
    "\n",
    "secondList = [4, 9, 16, 25, 36, 49, 64]\n",
    "print(\"Second List \", secondList)\n",
    "\n",
    "result = zip(firstList, secondList)\n",
    "resultSet = set(result)\n",
    "print(resultSet)"
   ]
  },
  {
   "cell_type": "markdown",
   "metadata": {},
   "source": [
    "### Problem 6"
   ]
  },
  {
   "cell_type": "code",
   "execution_count": 26,
   "metadata": {},
   "outputs": [
    {
     "name": "stdout",
     "output_type": "stream",
     "text": [
      "First Set : 65 42 78 83 23 57 29 \n",
      "Second Set : 67 73 43 48 83 57 29 \n",
      "Intersection is  : 83 57 29 \n",
      "First Set after removing common element : 65 42 78 23 "
     ]
    }
   ],
   "source": [
    "firstSet = {65,42,78,83,23,57,29}\n",
    "Second = {67,73,43,48,83,57,29}\n",
    "tmp = set()\n",
    "print(\"First Set : \",end=\"\")\n",
    "for i in firstSet :\n",
    "    print(i,end=\" \")\n",
    "\n",
    "print(\"\\nSecond Set : \",end=\"\")\n",
    "for i in Second :\n",
    "    print(i,end=\" \")\n",
    "    \n",
    "print(\"\\nIntersection is  : \",end=\"\")\n",
    "for i in  firstSet :\n",
    "    if i in Second :\n",
    "        print(i,end=\" \")\n",
    "    else:\n",
    "        tmp.add(i)\n",
    "\n",
    "print(\"\\nFirst Set after removing common element : \",end=\"\")\n",
    "for i in tmp :\n",
    "    print(i,end=\" \")"
   ]
  },
  {
   "cell_type": "markdown",
   "metadata": {},
   "source": [
    "### Problem 7"
   ]
  },
  {
   "cell_type": "code",
   "execution_count": 27,
   "metadata": {},
   "outputs": [
    {
     "name": "stdout",
     "output_type": "stream",
     "text": [
      "\n",
      "First Set  57 83 29 \n",
      "Second Set  67 73 43 48 83 57 29 \n",
      "\n",
      "First set is subset of second set -  True\n",
      "second set is subset of first set -  False\n",
      "\n",
      "\n",
      "First set is subset of second set -  False\n",
      "second set is subset of first set -  True\n",
      "\n",
      "\n",
      "First Set  set()\n",
      "Second Set  67 73 43 48 83 57 29 "
     ]
    }
   ],
   "source": [
    "frist = {57,83,29}\n",
    "seccond = {67,73,43,48,83,57,29}\n",
    "\n",
    "print(\"\\nFirst Set \",end=\" \")\n",
    "for i in frist :\n",
    "    print(i,end=\" \")\n",
    "    \n",
    "print(\"\\nSecond Set \",end=\" \")\n",
    "for i in seccond :\n",
    "    print(i,end=\" \")\n",
    "    \n",
    "print(\"\\n\\nFirst set is subset of second set - \",frist.issubset(seccond))\n",
    "print(\"second set is subset of first set - \",seccond.issubset(frist))\n",
    "print(\"\\n\\nFirst set is subset of second set - \",frist.issuperset(seccond))\n",
    "print(\"second set is subset of first set - \",seccond.issuperset(frist))\n",
    "\n",
    "print(\"\\n\\nFirst Set \",set())\n",
    "print(\"Second Set \",end=\" \")\n",
    "for i in seccond :\n",
    "    print(i,end=\" \")"
   ]
  },
  {
   "cell_type": "markdown",
   "metadata": {},
   "source": [
    "### Problem 8"
   ]
  },
  {
   "cell_type": "code",
   "execution_count": 28,
   "metadata": {},
   "outputs": [
    {
     "name": "stdout",
     "output_type": "stream",
     "text": [
      "List - [47, 64, 69, 37, 76, 83, 95, 97]\n",
      "Dictionary -  {'Jhon': 47, 'Emma': 69, 'Kelly': 76, 'Jason': 97}\n",
      "after removing unwanted elemnts from list  [47, 69, 76, 97]\n"
     ]
    }
   ],
   "source": [
    "rollNumber  = [47, 64, 69, 37, 76, 83, 95, 97]\n",
    "sampleDict  ={'Jhon':47, 'Emma':69, 'Kelly':76, 'Jason':97} \n",
    "\n",
    "print(\"List -\", rollNumber)\n",
    "print(\"Dictionary - \", sampleDict)\n",
    "\n",
    "rollNumber[:] = [item for item in rollNumber if item in sampleDict.values()]\n",
    "print(\"after removing unwanted elemnts from list \", rollNumber)"
   ]
  },
  {
   "cell_type": "markdown",
   "metadata": {},
   "source": [
    "### Problem 9"
   ]
  },
  {
   "cell_type": "code",
   "execution_count": 32,
   "metadata": {},
   "outputs": [
    {
     "name": "stdout",
     "output_type": "stream",
     "text": [
      "Dictionary's values -  dict_values([47, 52, 47, 44, 52, 53, 54, 44, 54])\n",
      "unique list [47, 52, 44, 53, 54]\n"
     ]
    }
   ],
   "source": [
    "speed  ={'jan':47, 'feb':52, 'march':47, 'April':44, 'May':52, 'June':53,\n",
    "          'july':54, 'Aug':44, 'Sept':54} \n",
    "\n",
    "print(\"Dictionary's values - \", speed.values())\n",
    "\n",
    "speedList = list()\n",
    "for item in speed.values():\n",
    "    if item not in speedList:\n",
    "        speedList.append(item)\n",
    "print(\"unique list\", speedList)"
   ]
  },
  {
   "cell_type": "markdown",
   "metadata": {},
   "source": [
    "### Problem 10"
   ]
  },
  {
   "cell_type": "code",
   "execution_count": 33,
   "metadata": {},
   "outputs": [
    {
     "name": "stdout",
     "output_type": "stream",
     "text": [
      "For Instance :\n",
      "Instance List =  [87, 45, 41, 65, 94, 41, 99, 94]\n",
      "Expected Outcome :\n",
      "unique items =  [87, 45, 41, 65, 94, 99]\n",
      "tuple =  (87, 45, 41, 65, 94, 99)\n",
      "min :  41 max :  99\n"
     ]
    }
   ],
   "source": [
    "Ex = [87,45,41,65,94,41,99,94]\n",
    "print(\"For Instance :\")\n",
    "print(\"Instance List = \",Ex)\n",
    "tmp = []\n",
    "for i in Ex :\n",
    "    if i not in tmp :\n",
    "        tmp.append(i)\n",
    "Ex = tmp\n",
    "print(\"Expected Outcome :\")\n",
    "print(\"unique items = \",Ex)\n",
    "print(\"tuple = \",tuple(Ex))\n",
    "print(\"min : \",min(Ex),'max : ',max(Ex))"
   ]
  }
 ],
 "metadata": {
  "kernelspec": {
   "display_name": "Python 3",
   "language": "python",
   "name": "python3"
  },
  "language_info": {
   "codemirror_mode": {
    "name": "ipython",
    "version": 3
   },
   "file_extension": ".py",
   "mimetype": "text/x-python",
   "name": "python",
   "nbconvert_exporter": "python",
   "pygments_lexer": "ipython3",
   "version": "3.7.6"
  }
 },
 "nbformat": 4,
 "nbformat_minor": 4
}
