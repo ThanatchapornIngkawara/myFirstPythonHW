{
 "cells": [
  {
   "cell_type": "markdown",
   "metadata": {},
   "source": [
    "# Coffeemachine"
   ]
  },
  {
   "cell_type": "code",
   "execution_count": null,
   "metadata": {},
   "outputs": [],
   "source": [
    "water = 400\n",
    "milk = 540\n",
    "coffeebeans = 120\n",
    "disposablecups = 9\n",
    "money = 550\n",
    "\n",
    "def printall() :\n",
    "    print(\"the coffee machine has : \")\n",
    "    print(water,\"of water\")\n",
    "    print(milk,\"of milk\")\n",
    "    print(coffeebeans, \"of coffeebeans\")\n",
    "    print(disposablecups,\"of disposablecups\")\n",
    "    print(money,\"of money\")\n",
    "\n",
    "printall()\n",
    "while True :\n",
    "    p = ''\n",
    "    while not(p in ['buy','fill','take']) :\n",
    "            p = input(\"write action (buy,fill,take) :\\n>\")\n",
    "    if p == 'buy' :\n",
    "        a = 0\n",
    "        while not (a in ['1','2','3']) :\n",
    "            a = input(\"What do you want to buy?  1 - espresso, 2 - latte, 3 - cappuccino : \\n>\")\n",
    "        if a == '1' :\n",
    "            water -= 250\n",
    "            milk -= 0\n",
    "            coffeebeans -= 16\n",
    "            disposablecups -= 1\n",
    "            money += 4\n",
    "        if a == '2' :\n",
    "            water -= 350\n",
    "            milk -= 75\n",
    "            coffeebeans -= 20\n",
    "            disposablecups -= 1\n",
    "            money += 7\n",
    "        if a == '3' :\n",
    "            water -= 200\n",
    "            milk -= 100\n",
    "            coffeebeans -= 12 \n",
    "            disposablecups -= 1\n",
    "            money += 6\n",
    "        printall()\n",
    "        \n",
    "    if p == 'fill' :\n",
    "            water += int(input(\"how many ml of water do you want to add :\\n>\"))\n",
    "            milk += int(input(\"how many al of milk do you want to add :\\n>\"))\n",
    "            coffeebeans += int(input(\"how many grams of coffee beans do you want to add :\\n>\"))\n",
    "            disposablecups += int(input(\"how many disposable cups of coffee do yu want to add :\\n>\"))\n",
    "            printall()\n",
    "\n",
    "    if p == 'take' :\n",
    "        print('I gave $',money)\n",
    "        money = 0\n",
    "        printall()\n",
    "        \n",
    "    y = 0\n",
    "    while not(y in ['1','2']) :\n",
    "        y = input('1-exit ,2-back to menu') \n",
    "    if y == '1' :\n",
    "        break"
   ]
  }
 ],
 "metadata": {
  "kernelspec": {
   "display_name": "Python 3",
   "language": "python",
   "name": "python3"
  },
  "language_info": {
   "codemirror_mode": {
    "name": "ipython",
    "version": 3
   },
   "file_extension": ".py",
   "mimetype": "text/x-python",
   "name": "python",
   "nbconvert_exporter": "python",
   "pygments_lexer": "ipython3",
   "version": "3.7.6"
  }
 },
 "nbformat": 4,
 "nbformat_minor": 4
}
